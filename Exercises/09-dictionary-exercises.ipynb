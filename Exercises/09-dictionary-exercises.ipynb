{
 "cells": [
  {
   "cell_type": "markdown",
   "metadata": {},
   "source": [
    "\n",
    "<a href=\"https://colab.research.google.com/github/kokchun/Python-course-AI22/blob/main/Exercises/09-dictionary-exercises.ipynb\" target=\"_parent\"><img align=\"left\" src=\"https://colab.research.google.com/assets/colab-badge.svg\" alt=\"Open In Colab\"/></a> &nbsp; to see hints and answers."
   ]
  },
  {
   "cell_type": "markdown",
   "metadata": {},
   "source": [
    "# dictionary exercises\n",
    "\n",
    "---\n",
    "These are introductory exercises in Python with focus in **dictionary**.\n",
    "\n",
    "<p class = \"alert alert-info\" role=\"alert\"><b>Remember</b> to use <b>descriptive variable and function names</b> in order to get readable code </p>\n",
    "\n",
    "<p class = \"alert alert-info\" role=\"alert\"><b>Remember</b> to format your answers in a neat way using <b>f-strings</b>\n",
    "\n",
    "<p class = \"alert alert-info\" role=\"alert\"><b>Remember</b> to format your input questions in a pedagogical way to guide the user\n",
    "\n",
    "The number of stars (\\*), (\\*\\*), (\\*\\*\\*) denotes the difficulty level of the task\n",
    "\n",
    "---"
   ]
  },
  {
   "cell_type": "markdown",
   "metadata": {},
   "source": [
    "## 1. Curriculum (*)\n",
    "\n",
    "Create a dictionary containing all the courses that you will study in this program, with the course names as **keys** and the amount of points as **value**. Then calculate the number of points that you will study in total. (*)\n",
    "\n",
    "<details>\n",
    "\n",
    "<summary>Answer</summary>\n",
    "\n",
    "Look at your course program curriculum\n",
    "\n",
    "</details>\n"
   ]
  },
  {
   "cell_type": "code",
   "execution_count": 3,
   "metadata": {},
   "outputs": [
    {
     "name": "stdout",
     "output_type": "stream",
     "text": [
      "400\n"
     ]
    }
   ],
   "source": [
    "\n",
    "\n",
    "courses = dict(\n",
    "    intro_till_ai = 5,\n",
    "    programmering_med_python = 40,\n",
    "    databehandling = 25,\n",
    "    linjär_algebra = 20,\n",
    "    statistiska_metoder = 30,\n",
    "    maskininlärning = 45,\n",
    "    djup_maskininlärning = 40,\n",
    "    databaser = 25,\n",
    "    LIA_1 = 40,\n",
    "    dataengineering_och_agil_metodik = 45,\n",
    "    LIA_2 = 70,\n",
    "    examensarbete = 15,\n",
    ")\n",
    "tot_point = 0\n",
    "\n",
    "for _, course in courses.items():\n",
    "    tot_point += course\n",
    "\n",
    "print(tot_point)"
   ]
  },
  {
   "cell_type": "markdown",
   "metadata": {},
   "source": [
    "---\n",
    "## 2. Dice simulation (*)\n",
    "\n",
    "Simulate 1000000 dice rolls and save the number of ones, twos, ..., sixes in a dictionary. Then print them out in the terminal. (*)\n",
    "\n",
    "<details>\n",
    "\n",
    "<summary>Answer</summary>\n",
    "\n",
    "```\n",
    "1: 166481\n",
    "2: 166844\n",
    "3: 166154\n",
    "4: 167400\n",
    "5: 167260\n",
    "6: 165861\n",
    "```\n",
    "\n",
    "</details>\n"
   ]
  },
  {
   "cell_type": "code",
   "execution_count": 2,
   "metadata": {},
   "outputs": [
    {
     "name": "stdout",
     "output_type": "stream",
     "text": [
      "{'one': 166908, 'two': 166023, 'three': 167178, 'four': 166262, 'five': 166690, 'six': 166939}\n"
     ]
    }
   ],
   "source": [
    "import random as rnd\n",
    "\n",
    "rnd.seed(42)\n",
    "dices = dict(one = 0, two = 0, three = 0, four = 0, five = 0, six = 0)\n",
    "rolls = [rnd.randint(1,6) for _ in range(1000000)]\n",
    "\n",
    "#print(rolls)\n",
    "#print(rolls, dices)\n",
    "\n",
    "for roll in rolls:\n",
    "    i = 0\n",
    "    for dice, _ in dices.items():\n",
    "        i += 1\n",
    "        if i == roll:\n",
    "           dices[dice] += 1\n",
    "\n",
    "print(dices)"
   ]
  },
  {
   "cell_type": "markdown",
   "metadata": {},
   "source": [
    "---\n",
    "## 3. Pokemon list (*)\n",
    "\n",
    "Read in the file pokemon_list.txt in Python. Create a variable with name pokedex with the key:value **\"pokemon\":\"type, index\"**. For example when searching for the keys \"Gengar\" and \"Pikachu\": (*)\n",
    "\n",
    "```python\n",
    "\n",
    "print(pokedex[\"Gengar\"])\n",
    "print(pokedex[\"Pikachu\"])\n",
    "\n",
    "Spöke/Gift, 94\n",
    "Elektrisk, 25\n",
    "```\n",
    "\n",
    "<details>\n",
    "\n",
    "<summary>Answer</summary>\n",
    "\n",
    "```\n",
    "{'Bulbasaur': 'Gräs/Gift, 1',\n",
    " 'Ivysaur': 'Gräs/Gift, 2',\n",
    " 'Venusaur': 'Gräs/Gift, 3',\n",
    " 'Charmander': 'Eld, 4',\n",
    " 'Charmeleon': 'Eld, 5',\n",
    " 'Charizard': 'Eld/Flygande, 6',\n",
    " 'Squirtle': 'Vatten, 7',\n",
    " 'Wartortle': 'Vatten, 8',\n",
    " 'Blastoise': 'Vatten, 9',\n",
    " ...\n",
    "}\n",
    "```\n",
    "\n",
    "</details>\n"
   ]
  },
  {
   "cell_type": "code",
   "execution_count": 33,
   "metadata": {},
   "outputs": [
    {
     "name": "stdout",
     "output_type": "stream",
     "text": [
      "{'Bulbasaur': 'GrÃ¤s/Gift, 1', 'Ivysaur': 'GrÃ¤s/Gift, 2', 'Venusaur': 'GrÃ¤s/Gift, 3', 'Charmander': 'Eld, 4', 'Charmeleon': 'Eld, 5', 'Charizard': 'Eld/Flygande, 6', 'Squirtle': 'Vatten, 7', 'Wartortle': 'Vatten, 8', 'Blastoise': 'Vatten, 9', 'Caterpie': 'Insekt, 10', 'Metapod': 'Insekt, 11', 'Butterfree': 'Insekt/Flygande, 12', 'Weedle': 'Insekt/Gift, 13', 'Kakuna': 'Insekt/Gift, 14', 'Beedrill': 'Insekt/Gift, 15', 'Pidgey': 'Normal/Flygande, 16', 'Pidgeotto': 'Normal/Flygande, 17', 'Pidgeot': 'Normal/Flygande, 18', 'Rattata': 'Normal, 19', 'Raticate': 'Normal, 20', 'Spearow': 'Normal/Flygande, 21', 'Fearow': 'Normal/Flygande, 22', 'Ekans': 'Gift, 23', 'Arbok': 'Gift, 24', 'Pikachu': 'Elektrisk, 25', 'Raichu': 'Elektrisk, 26', 'Sandshrew': 'Mark, 27', 'Sandslash': 'Mark, 28', 'Nidoranâ™€': 'Gift, 29', 'Nidorina': 'Gift, 30', 'Nidoqueen': 'Gift/Mark, 31', 'Nidoranâ™‚': 'Gift, 32', 'Nidorino': 'Gift, 33', 'Nidoking': 'Gift/Mark, 34', 'Clefairy': 'FÃ©, 35', 'Clefable': 'FÃ©, 36', 'Vulpix': 'Eld, 37', 'Ninetales': 'Eld, 38', 'Jigglypuff': 'Normal/FÃ©, 39', 'Wigglytuff': 'Normal/FÃ©, 40', 'Zubat': 'Gift/Flygande, 41', 'Golbat': 'Gift/Flygande, 42', 'Oddish': 'GrÃ¤s/Gift, 43', 'Gloom': 'GrÃ¤s/Gift, 44', 'Vileplume': 'GrÃ¤s/Gift, 45', 'Paras': 'Insekt/GrÃ¤s, 46', 'Parasect': 'Insekt/GrÃ¤s, 47', 'Venonat': 'Insekt/Gift, 48', 'Venomoth': 'Insekt/Gift, 49', 'Diglett': 'Mark, 50', 'Dugtrio': 'Mark, 51', 'Meowth': 'Normal, 52', 'Persian': 'Normal, 53', 'Psyduck': 'Vatten, 54', 'Golduck': 'Vatten, 55', 'Mankey': 'Kamp, 56', 'Primeape': 'Kamp, 57', 'Growlithe': 'Eld, 58', 'Arcanine': 'Eld, 59', 'Poliwag': 'Vatten, 60', 'Poliwhirl': 'Vatten, 61', 'Poliwrath': 'Vatten/Kamp, 62', 'Abra': 'Psykisk, 63', 'Kadabra': 'Psykisk, 64', 'Alakazam': 'Psykisk, 65', 'Machop': 'Kamp, 66', 'Machoke': 'Kamp, 67', 'Machamp': 'Kamp, 68', 'Bellsprout': 'GrÃ¤s/Gift, 69', 'Weepinbell': 'GrÃ¤s/Gift, 70', 'Victreebel': 'GrÃ¤s/Gift, 71', 'Tentacool': 'Vatten/Gift, 72', 'Tentacruel': 'Vatten/Gift, 73', 'Geodude': 'Sten/Mark, 74', 'Graveler': 'Sten/Mark, 75', 'Golem': 'Sten/Mark, 76', 'Ponyta': 'Eld, 77', 'Rapidash': 'Eld, 78', 'Slowpoke': 'Vatten/Psykisk, 79', 'Slowbro': 'Vatten/Psykisk, 80', 'Magnemite': 'Elektrisk/StÃ¥l, 81', 'Magneton': 'Elektrisk/StÃ¥l, 82', \"Farfetch'd\": 'Normal/Flygande, 83', 'Doduo': 'Normal/Flygande, 84', 'Dodrio': 'Normal/Flygande, 85', 'Seel': 'Vatten, 86', 'Dewgong': 'Vatten/Is, 87', 'Grimer': 'Gift, 88', 'Muk': 'Gift, 89', 'Shellder': 'Vatten, 90', 'Cloyster': 'Vatten/Is, 91', 'Gastly': 'SpÃ¶ke/Gift, 92', 'Haunter': 'SpÃ¶ke/Gift, 93', 'Gengar': 'SpÃ¶ke/Gift, 94', 'Onix': 'Sten/Mark, 95', 'Drowzee': 'Psykisk, 96', 'Hypno': 'Psykisk, 97', 'Krabby': 'Vatten, 98', 'Kingler': 'Vatten, 99', 'Voltorb': 'Elektrisk, 100', 'Electrode': 'Elektrisk, 101', 'Exeggcute': 'GrÃ¤s/Psykisk, 102', 'Exeggutor': 'GrÃ¤s/Psykisk, 103', 'Cubone': 'Mark, 104', 'Marowak': 'Mark, 105', 'Hitmonlee': 'Kamp, 106', 'Hitmonchan': 'Kamp, 107', 'Lickitung': 'Normal, 108', 'Koffing': 'Gift, 109', 'Weezing': 'Gift, 110', 'Rhyhorn': 'Mark/Sten, 111', 'Rhydon': 'Mark/Sten, 112', 'Chansey': 'Normal, 113', 'Tangela': 'GrÃ¤s, 114', 'Kangaskhan': 'Normal, 115', 'Horsea': 'Vatten, 116', 'Seadra': 'Vatten, 117', 'Goldeen': 'Vatten, 118', 'Seaking': 'Vatten, 119', 'Staryu': 'Vatten, 120', 'Starmie': 'Vatten/Psykisk, 121', 'Mr.': 'Psykisk, 122', 'Scyther': 'Insekt/Flygande, 123', 'Jynx': 'Is/Psykisk, 124', 'Electabuzz': 'Elektrisk, 125', 'Magmar': 'Eld, 126', 'Pinsir': 'Insekt, 127', 'Tauros': 'Normal, 128', 'Magikarp': 'Vatten, 129', 'Gyarados': 'Vatten/Flygande, 130', 'Lapras': 'Vatten/Is, 131', 'Ditto': 'Normal, 132', 'Eevee': 'Normal, 133', 'Vaporeon': 'Vatten, 134', 'Jolteon': 'Elektrisk, 135', 'Flareon': 'Eld, 136', 'Porygon': 'Normal, 137', 'Omanyte': 'Sten/Vatten, 138', 'Omastar': 'Sten/Vatten, 139', 'Kabuto': 'Sten/Vatten, 140', 'Kabutops': 'Sten/Vatten, 141', 'Aerodactyl': 'Sten/Flygande, 142', 'Snorlax': 'Normal, 143', 'Articuno': 'Is/Flygande, 144', 'Zapdos': 'Elektrisk/Flygande, 145', 'Moltres': 'Eld/Flygande, 146', 'Dratini': 'Drake, 147', 'Dragonair': 'Drake, 148', 'Dragonite': 'Drake/Flygande, 149', 'Mewtwo': 'Psykisk, 150'}\n"
     ]
    }
   ],
   "source": [
    "\n",
    "\n",
    "with open(\"../Data/pokemon_list.txt\", \"r\") as f_read:\n",
    "    \n",
    "    pkm_lst = [pkm.strip(\"\\n\").split(\" \") for pkm in f_read] \n",
    "    #print(pkm_lst)\n",
    "\n",
    "pokedex = {}\n",
    "\n",
    "for i in range(len(pkm_lst)):\n",
    "    #print(pkm_lst[i][-1])\n",
    "    pokedex.update({pkm_lst[i][1]: pkm_lst[i][-1] +\", \" + pkm_lst[i][0]})\n",
    "\n",
    "print(pokedex)"
   ]
  },
  {
   "cell_type": "markdown",
   "metadata": {},
   "source": [
    "---\n",
    "## 4. Morse code (**)\n",
    "\n",
    "Read in the file morse.txt, save it in a dictionary and create a function that lets the user input a message to get it translated to morse code. For example  (**)\n",
    "\n",
    "```python\n",
    "\n",
    "print(morse[\"SOS\"])\n",
    "print(morse[\"POKEMON\"])\n",
    "\n",
    "...---...\n",
    ".------.-.------.\n",
    "```"
   ]
  },
  {
   "cell_type": "code",
   "execution_count": 71,
   "metadata": {},
   "outputs": [
    {
     "name": "stdout",
     "output_type": "stream",
     "text": [
      ".------.-.------.\n"
     ]
    }
   ],
   "source": [
    "\n",
    "def translate_morse(message):\n",
    "    with open(\"../Data/Morse.txt\", \"r\") as f_read:\n",
    "\n",
    "        morse = dict(i.strip(\"\\n\").split(\": \") for i in f_read)\n",
    "\n",
    "    morse_code = \"\"\n",
    "\n",
    "    for i in range(len(message)):\n",
    "        for morse_c, morse_m in morse.items():\n",
    "            if message[i] == morse_c:\n",
    "                morse_code += morse_m\n",
    "    return morse_code\n",
    "\n",
    "print(translate_morse(input(\"Write a word to translate to morse !IN ALL CAPS!\")))\n"
   ]
  },
  {
   "cell_type": "markdown",
   "metadata": {},
   "source": [
    "---\n",
    "\n",
    "Kokchun Giang\n",
    "\n",
    "[LinkedIn][linkedIn_kokchun]\n",
    "\n",
    "[GitHub portfolio][github_portfolio]\n",
    "\n",
    "[linkedIn_kokchun]: https://www.linkedin.com/in/kokchungiang/\n",
    "[github_portfolio]: https://github.com/kokchun/Portfolio-Kokchun-Giang\n",
    "\n",
    "---"
   ]
  }
 ],
 "metadata": {
  "kernelspec": {
   "display_name": "Python 3.9.13 ('Python-Rasmus-Johansson-EWxhOLhb')",
   "language": "python",
   "name": "python3"
  },
  "language_info": {
   "codemirror_mode": {
    "name": "ipython",
    "version": 3
   },
   "file_extension": ".py",
   "mimetype": "text/x-python",
   "name": "python",
   "nbconvert_exporter": "python",
   "pygments_lexer": "ipython3",
   "version": "3.9.13"
  },
  "orig_nbformat": 4,
  "vscode": {
   "interpreter": {
    "hash": "ed15a61d6e9ed6319e1180fdae838f97815abbfb1cd660cf0bc2fa86b0c66932"
   }
  }
 },
 "nbformat": 4,
 "nbformat_minor": 2
}
