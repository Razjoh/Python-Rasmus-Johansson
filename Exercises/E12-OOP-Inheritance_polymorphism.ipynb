{
 "cells": [
  {
   "cell_type": "markdown",
   "metadata": {},
   "source": [
    "---\n",
    "## 2. Fraction (**)\n",
    "\n",
    "Create a class called Frac to represent mathematical fractions. The class is instantiated with two instance variables: nominator and denominator. Objects instantiated from this class should have methods for addition, subtraction, multiplication, division using the operators +,-,*,/. Note that these implemented methods must be mathematically correct. Also implement the following methods: \n",
    "\n",
    "```python\n",
    "\n",
    "simplify(self, value = None) # simplifies to most simple form unless value is given \n",
    "\n",
    "__str__(self) # represent the fraction in a neat way for printing\n",
    "\n",
    "mixed(self) # represent the fraction in mixed terms \n",
    "\n",
    "__eq__(self, other) # checks equality by overloading ==\n",
    "\n",
    "```\n",
    "\n",
    "Also remember to handle errors and validations.\n",
    "\n",
    "Example of tests that it should handled: \n",
    "\n",
    "- 1/2 + 1/3 = 5/6\n",
    "- 1/2 - 1/3 = 1/6\n",
    "- 7/6 --> 1 1/6 (mixed)\n",
    "- 3*1/2 = 3/2\n",
    "- 1/2 * 3 = 3/2\n",
    "- 1/4 + 2 = 9/4\n",
    "- 1/4 / 1/2 = 1/2\n",
    "- 2/4 == 1/2 --> True\n",
    "- 3/4 += 2 = 11/4\n",
    "\n",
    "</details>\n"
   ]
  },
  {
   "cell_type": "code",
   "execution_count": 229,
   "metadata": {},
   "outputs": [],
   "source": [
    "from __future__ import annotations\n",
    "from audioop import mul\n",
    "\n",
    "class Frac:\n",
    "    \"\"\"A class to represent fractions\"\"\"\n",
    "\n",
    "    def __init__(self, *numbers: int) -> None:\n",
    "        \n",
    "        # validation\n",
    "        for number in numbers:\n",
    "            if not isinstance(number, int):\n",
    "                raise TypeError(f\"{number} is not a valid number\")\n",
    "        \n",
    "        if len(numbers) == 1:\n",
    "            numbers += 1,\n",
    "\n",
    "        if len(numbers) != 2:\n",
    "            raise ValueError(\"Fractions must only contain a nominator and denominator\")\n",
    "\n",
    "        self._numbers = tuple(int(number) for number in numbers)\n",
    "\n",
    "    @property\n",
    "    def numbers(self) -> tuple:\n",
    "        return self._numbers\n",
    "\n",
    "    def simplify(self, value = None) -> Frac:\n",
    "        multi_table = 0\n",
    "        for i in range(2,11):\n",
    "            if self.numbers[0] % i == 0 and self.numbers[1] % i == 0:\n",
    "                multi_table = i\n",
    "        if multi_table != 0:\n",
    "            numbers = (int(self.numbers[0]/multi_table), int(self.numbers[1]/multi_table))\n",
    "            return Frac(*numbers)\n",
    "            \n",
    "    def mixed(self) -> None:\n",
    "        if self.numbers[0] > self.numbers[1]:\n",
    "            whole_numbs = self.numbers[0] // self.numbers[1]\n",
    "            if self.numbers[0] % self.numbers[1] == 0:\n",
    "                print(f\"{whole_numbs}\")\n",
    "            else:\n",
    "                print(f\"{whole_numbs} {self.numbers[0]%self.numbers[1]}/{self.numbers[1]}\")\n",
    "\n",
    "    def __add__(self, other: Frac) -> Frac:\n",
    "        # numbers = self.closest_denom(other)\n",
    "        numbers = ((self.numbers[0]*other.numbers[1]) + (other.numbers[0]*self.numbers[1]), self.numbers[1]*other.numbers[1])\n",
    "        # numbers = (self.closest_denom(other)+other.closest_denom(self))\n",
    "        return Frac(*numbers)\n",
    "\n",
    "    def __sub__(self, other: Frac) -> Frac:\n",
    "        numbers = ((self.numbers[0]*other.numbers[1]) - (other.numbers[0]*self.numbers[1]), self.numbers[1]*other.numbers[1])\n",
    "        return Frac(*numbers)\n",
    "\n",
    "    # change so that it can multiply with other fractions asswell\n",
    "    def __mul__(self, value: float) -> Frac:\n",
    "        numbers = (self.numbers[0]*value , self.numbers[1])\n",
    "        #numbers = (self.numbers[0]*other.numbers[0], self.numbers[1])\n",
    "        return Frac(*numbers)\n",
    "\n",
    "    def __rmul__(self, times: float) -> Frac:\n",
    "        return self*times\n",
    "\n",
    "    def __truediv__(self, other: Frac) -> Frac:\n",
    "        numbers = (self.numbers[0]*other.numbers[1], self.numbers[1]*other.numbers[0])\n",
    "        return Frac(*numbers)\n",
    "\n",
    "    def __len__(self) -> int:\n",
    "        \"\"\"Return number of elements in fraction\"\"\"\n",
    "        return len(self.numbers)\n",
    "\n",
    "    def __str__(self) -> str:\n",
    "        return f\"{self.numbers[0]}/{self.numbers[1]}\"\n",
    "\n",
    "    def __repr__(self) -> str:\n",
    "        return f\"Fraction{self._numbers}\"\n"
   ]
  },
  {
   "cell_type": "code",
   "execution_count": 230,
   "metadata": {},
   "outputs": [
    {
     "name": "stdout",
     "output_type": "stream",
     "text": [
      "Fractions must only contain a nominator and denominator\n",
      "1/2\n",
      "5/6\n",
      "1/6\n",
      "3/2\n",
      "2 2/3\n"
     ]
    }
   ],
   "source": [
    "\n",
    "frac1 = Frac(1,2)\n",
    "\n",
    "try:\n",
    "    frac2 = Frac(2,2,3)\n",
    "except ValueError as err:\n",
    "    print(err)\n",
    "\n",
    "print(frac1)\n",
    "frac3 = Frac(1,3)\n",
    "print(frac1 + frac3)\n",
    "print(frac1 - frac3)\n",
    "print(frac1*3)\n",
    "frac4 = Frac(2)\n",
    "3*frac4\n",
    "frac5 = Frac(1,4)\n",
    "Frac.simplify(frac5/frac1)\n",
    "frac6 = Frac(8,3)\n",
    "frac6.mixed()\n",
    "\n"
   ]
  },
  {
   "cell_type": "code",
   "execution_count": 231,
   "metadata": {},
   "outputs": [
    {
     "name": "stdout",
     "output_type": "stream",
     "text": [
      "2\n",
      "2\n",
      "2 2/3\n"
     ]
    }
   ],
   "source": [
    "a = 8\n",
    "b = 3\n",
    "\n",
    "if a > b:\n",
    "    c = a // b\n",
    "    print(c)\n",
    "    print(a % b)\n",
    "    if a % b == 0:\n",
    "        print(f\"{c}\")\n",
    "    else:\n",
    "        print(f\"{c} {a%b}/{b}\")\n",
    "\n"
   ]
  },
  {
   "cell_type": "code",
   "execution_count": null,
   "metadata": {},
   "outputs": [],
   "source": []
  }
 ],
 "metadata": {
  "kernelspec": {
   "display_name": "Python 3.9.13 ('Python-Rasmus-Johansson-EWxhOLhb')",
   "language": "python",
   "name": "python3"
  },
  "language_info": {
   "name": "python",
   "version": "3.9.13"
  },
  "orig_nbformat": 4,
  "vscode": {
   "interpreter": {
    "hash": "ed15a61d6e9ed6319e1180fdae838f97815abbfb1cd660cf0bc2fa86b0c66932"
   }
  }
 },
 "nbformat": 4,
 "nbformat_minor": 2
}
