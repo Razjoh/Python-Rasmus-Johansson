{
 "cells": [
  {
   "cell_type": "markdown",
   "metadata": {},
   "source": [
    "## fråga 1"
   ]
  },
  {
   "cell_type": "code",
   "execution_count": 1,
   "metadata": {},
   "outputs": [
    {
     "name": "stdout",
     "output_type": "stream",
     "text": [
      "5.0 is the hypothenuse\n",
      "4.9is the cathetus\n"
     ]
    }
   ],
   "source": [
    "import math\n",
    "\n",
    "a = 3\n",
    "b = 4\n",
    "print(f\"{math.sqrt(a**2 + b**2)} is the hypothenuse\")\n",
    "\n",
    "c = 7\n",
    "a = 5\n",
    "print(f\"{math.sqrt(c**2 - a**2):.1f}is the cathetus\")"
   ]
  },
  {
   "cell_type": "markdown",
   "metadata": {},
   "source": [
    "## fråga 2"
   ]
  },
  {
   "cell_type": "code",
   "execution_count": 9,
   "metadata": {},
   "outputs": [
    {
     "name": "stdout",
     "output_type": "stream",
     "text": [
      "the algorithm was right 82% of the time\n"
     ]
    }
   ],
   "source": [
    "guesses = 365\n",
    "Cguesses = 300\n",
    "\n",
    "print(f\"the algorithm was right {(Cguesses/guesses)*100:.0f}% of the time\")"
   ]
  },
  {
   "cell_type": "markdown",
   "metadata": {},
   "source": [
    "## fråga 3"
   ]
  },
  {
   "cell_type": "code",
   "execution_count": 11,
   "metadata": {},
   "outputs": [
    {
     "name": "stdout",
     "output_type": "stream",
     "text": [
      "the system accuracy is 0.987\n"
     ]
    }
   ],
   "source": [
    "\n",
    "tp = 2\n",
    "fp = 2\n",
    "fn = 11\n",
    "tn = 985\n",
    "\n",
    "accuracy = (tp+tn)/(tp+tn+fp+fn)\n",
    "\n",
    "print(f\"the system accuracy is {accuracy}\")"
   ]
  },
  {
   "cell_type": "markdown",
   "metadata": {},
   "source": [
    "## fråga 4"
   ]
  },
  {
   "cell_type": "code",
   "execution_count": 17,
   "metadata": {},
   "outputs": [
    {
     "name": "stdout",
     "output_type": "stream",
     "text": [
      "k=0.75 and m=1.0\n"
     ]
    }
   ],
   "source": [
    "\n",
    "a = (4,4)\n",
    "b = (0,1)\n",
    "\n",
    "x = a[0] - b[0]\n",
    "y = a[1] - b[1]\n",
    "k = y/x\n",
    "\n",
    "print(f\"{k=} and m={a[1] - k*a[0]}\")"
   ]
  },
  {
   "cell_type": "markdown",
   "metadata": {},
   "source": [
    "## fråga 5"
   ]
  },
  {
   "cell_type": "code",
   "execution_count": 22,
   "metadata": {},
   "outputs": [
    {
     "name": "stdout",
     "output_type": "stream",
     "text": [
      "the distance is 5.1 lenght units\n"
     ]
    }
   ],
   "source": [
    "import math\n",
    "\n",
    "P1 = (3,5)\n",
    "P2 = (-2,4)\n",
    "\n",
    "print(f\"the distance is {math.sqrt((P2[0] - P1[0])**2 + (P2[1] - P1[1])**2):.1f} lenght units\")"
   ]
  },
  {
   "cell_type": "markdown",
   "metadata": {},
   "source": [
    "## fråga 6"
   ]
  },
  {
   "cell_type": "code",
   "execution_count": 28,
   "metadata": {},
   "outputs": [
    {
     "name": "stdout",
     "output_type": "stream",
     "text": [
      "distance between the point is 4.12 units\n"
     ]
    }
   ],
   "source": [
    "import math\n",
    "\n",
    "P1 = (2,1,4)\n",
    "P2 = (3,1,0)\n",
    "\n",
    "dist = math.sqrt((P2[0]-P1[0])**2 + (P2[1]-P1[1])**2 + (P2[2]-P1[2])**2)\n",
    "print(f\"distance between the point is {dist:.2f} units\")"
   ]
  },
  {
   "cell_type": "code",
   "execution_count": null,
   "metadata": {},
   "outputs": [],
   "source": []
  }
 ],
 "metadata": {
  "kernelspec": {
   "display_name": "Python 3.9.13 ('Python-Rasmus-Johansson-EWxhOLhb')",
   "language": "python",
   "name": "python3"
  },
  "language_info": {
   "codemirror_mode": {
    "name": "ipython",
    "version": 3
   },
   "file_extension": ".py",
   "mimetype": "text/x-python",
   "name": "python",
   "nbconvert_exporter": "python",
   "pygments_lexer": "ipython3",
   "version": "3.9.13"
  },
  "orig_nbformat": 4,
  "vscode": {
   "interpreter": {
    "hash": "ed15a61d6e9ed6319e1180fdae838f97815abbfb1cd660cf0bc2fa86b0c66932"
   }
  }
 },
 "nbformat": 4,
 "nbformat_minor": 2
}
