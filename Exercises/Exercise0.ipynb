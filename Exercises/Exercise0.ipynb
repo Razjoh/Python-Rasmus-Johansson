{
 "cells": [
  {
   "cell_type": "markdown",
   "metadata": {},
   "source": [
    "## fråga 1"
   ]
  },
  {
   "cell_type": "code",
   "execution_count": 1,
   "metadata": {},
   "outputs": [
    {
     "name": "stdout",
     "output_type": "stream",
     "text": [
      "5.0 is the hypothenuse\n",
      "4.9is the cathetus\n"
     ]
    }
   ],
   "source": [
    "import math\n",
    "\n",
    "a = 3\n",
    "b = 4\n",
    "print(f\"{math.sqrt(a**2 + b**2)} is the hypothenuse\")\n",
    "\n",
    "c = 7\n",
    "a = 5\n",
    "print(f\"{math.sqrt(c**2 - a**2):.1f}is the cathetus\")"
   ]
  },
  {
   "cell_type": "markdown",
   "metadata": {},
   "source": [
    "## fråga 2"
   ]
  },
  {
   "cell_type": "code",
   "execution_count": null,
   "metadata": {},
   "outputs": [],
   "source": []
  },
  {
   "cell_type": "markdown",
   "metadata": {},
   "source": [
    "## fråga 3"
   ]
  },
  {
   "cell_type": "code",
   "execution_count": null,
   "metadata": {},
   "outputs": [],
   "source": []
  },
  {
   "cell_type": "markdown",
   "metadata": {},
   "source": []
  }
 ],
 "metadata": {
  "kernelspec": {
   "display_name": "Python 3.9.13 ('Python-Rasmus-Johansson-EWxhOLhb')",
   "language": "python",
   "name": "python3"
  },
  "language_info": {
   "codemirror_mode": {
    "name": "ipython",
    "version": 3
   },
   "file_extension": ".py",
   "mimetype": "text/x-python",
   "name": "python",
   "nbconvert_exporter": "python",
   "pygments_lexer": "ipython3",
   "version": "3.9.13"
  },
  "orig_nbformat": 4,
  "vscode": {
   "interpreter": {
    "hash": "ed15a61d6e9ed6319e1180fdae838f97815abbfb1cd660cf0bc2fa86b0c66932"
   }
  }
 },
 "nbformat": 4,
 "nbformat_minor": 2
}
