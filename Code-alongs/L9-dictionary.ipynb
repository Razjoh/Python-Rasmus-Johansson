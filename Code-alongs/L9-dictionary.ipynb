{
 "cells": [
  {
   "cell_type": "markdown",
   "metadata": {},
   "source": [
    "# Dictionary"
   ]
  },
  {
   "cell_type": "code",
   "execution_count": 8,
   "metadata": {},
   "outputs": [
    {
     "name": "stdout",
     "output_type": "stream",
     "text": [
      "person dictionary: {'name': 'Rasmus', 'age': 23, 'work': 'student', 'interests': ['math', 'yoga', 'food', 'dota'], 'phone': 112}\n",
      "person work: student\n",
      "person age: 23\n",
      "person likes math\n",
      "person likes yoga\n",
      "person likes food\n",
      "person likes dota\n"
     ]
    }
   ],
   "source": [
    "# create a dictionary with dict keyword\n",
    "\n",
    "person = dict(\n",
    "    name=\"Rasmus\", age=23, work=\"student\", interests=[\"math\", \"yoga\", \"food\", \"dota\"], phone=112\n",
    ")\n",
    "\n",
    "\n",
    "print(f\"person dictionary: {person}\")\n",
    "print(f\"person work: {person['work']}\")\n",
    "print(f\"person age: {person['age']}\")\n",
    "\n",
    "#print(f\"person interests: {person['interests']}\")\n",
    "\n",
    "for interest in person['interests']:\n",
    "    print(f\"person likes {interest}\")\n"
   ]
  },
  {
   "cell_type": "code",
   "execution_count": 12,
   "metadata": {},
   "outputs": [
    {
     "name": "stdout",
     "output_type": "stream",
     "text": [
      "{'assign': 'assigns a value to a varible', 'dictionary': 'datasttructure to store data in key-value pairs', 'method': 'afunction bound to an object'}\n",
      "vi ska lära oss de här glosorna \n",
      "\n",
      "assign - assigns a value to a varible\n",
      "dictionary - datasttructure to store data in key-value pairs\n",
      "method - afunction bound to an object\n"
     ]
    }
   ],
   "source": [
    "# create dict with {}\n",
    "\n",
    "words = {\n",
    "    \"assign\": \"assigns a value to a varible\",\n",
    "    \"dictionary\": \"datasttructure to store data in key-value pairs\",\n",
    "    \"method\": \"afunction bound to an object\",\n",
    "}\n",
    "\n",
    "print(words)\n",
    "print(\"vi ska lära oss de här glosorna \\n\")\n",
    "\n",
    "for key in words:\n",
    "    print(key, \"-\", words[key])\n"
   ]
  },
  {
   "cell_type": "code",
   "execution_count": 15,
   "metadata": {},
   "outputs": [
    {
     "name": "stdout",
     "output_type": "stream",
     "text": [
      "assign               assigns a value to a varible\n",
      "dictionary           datasttructure to store data in key-value pairs\n",
      "method               afunction bound to an object\n"
     ]
    }
   ],
   "source": [
    "\n",
    "\n",
    "for key, value in words.items():\n",
    "    print(f\"{key:<20} {value}\")"
   ]
  },
  {
   "cell_type": "code",
   "execution_count": null,
   "metadata": {},
   "outputs": [],
   "source": []
  }
 ],
 "metadata": {
  "kernelspec": {
   "display_name": "Python 3.9.13 ('Python-Rasmus-Johansson-EWxhOLhb')",
   "language": "python",
   "name": "python3"
  },
  "language_info": {
   "codemirror_mode": {
    "name": "ipython",
    "version": 3
   },
   "file_extension": ".py",
   "mimetype": "text/x-python",
   "name": "python",
   "nbconvert_exporter": "python",
   "pygments_lexer": "ipython3",
   "version": "3.9.13"
  },
  "orig_nbformat": 4,
  "vscode": {
   "interpreter": {
    "hash": "ed15a61d6e9ed6319e1180fdae838f97815abbfb1cd660cf0bc2fa86b0c66932"
   }
  }
 },
 "nbformat": 4,
 "nbformat_minor": 2
}
