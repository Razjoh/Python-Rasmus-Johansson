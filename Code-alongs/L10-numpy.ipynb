{
 "cells": [
  {
   "cell_type": "markdown",
   "metadata": {},
   "source": [
    "# Numpy"
   ]
  },
  {
   "cell_type": "code",
   "execution_count": 4,
   "metadata": {},
   "outputs": [
    {
     "name": "stdout",
     "output_type": "stream",
     "text": [
      "[1, 2, 3, 1, 2, 3]\n",
      "[1, 'ett', True, 2.3]\n"
     ]
    }
   ],
   "source": [
    "\n",
    "numbers_lst = [1,2,3]\n",
    "numbers_lst = numbers_lst*2\n",
    "print(numbers_lst)\n",
    "\n",
    "mixed_lst = [1, \"ett\", True, 2.3]\n",
    "print(mixed_lst)"
   ]
  },
  {
   "cell_type": "code",
   "execution_count": 13,
   "metadata": {},
   "outputs": [
    {
     "name": "stdout",
     "output_type": "stream",
     "text": [
      "[2 5 1]\n",
      "[ 4 10  2]\n",
      "vector1+2=array([4, 7, 3])\n",
      "vector1[2]=1\n",
      "vector1[::-1]=array([1, 5, 2])\n",
      "[ 2 23  1]\n",
      "vector1=array([ 1,  2, 23])\n",
      "vector1.sum()=26\n",
      "vector1.mean()=8.666666666666666\n"
     ]
    }
   ],
   "source": [
    "import numpy as np\n",
    "\n",
    "\n",
    "vector1 = np.array([2,5,1])\n",
    "print(vector1)\n",
    "vector2 = vector1*2\n",
    "print(vector2)\n",
    "\n",
    "print(f\"{vector1+2=}\")\n",
    "print(f\"{vector1[2]=}\")\n",
    "print(f\"{vector1[::-1]=}\")\n",
    "\n",
    "vector1[1] = 23\n",
    "print(vector1)\n",
    "\n",
    "vector1.sort()\n",
    "print(f\"{vector1=}\")\n",
    "\n",
    "print(f\"{vector1.sum()=}\")\n",
    "print(f\"{vector1.mean()=}\")\n",
    "\n",
    "\n"
   ]
  },
  {
   "cell_type": "code",
   "execution_count": 18,
   "metadata": {},
   "outputs": [
    {
     "name": "stdout",
     "output_type": "stream",
     "text": [
      "ones_vector=array([1., 1., 1., 1., 1., 1., 1., 1., 1., 1.])\n",
      "[[1. 1. 1.]\n",
      " [1. 1. 1.]\n",
      " [1. 1. 1.]]\n",
      "[[ 1.  1.  1.]\n",
      " [ 1.  1.  1.]\n",
      " [ 1. 10.  1.]]\n"
     ]
    }
   ],
   "source": [
    "\n",
    "ones_vector = np.ones(10)\n",
    "print(f\"{ones_vector=}\")\n",
    "\n",
    "matrix_3x3 = np.ones((3,3))\n",
    "print(f\"{matrix_3x3}\")\n",
    "\n",
    "matrix_3x3[2,1] = 10\n",
    "print(f\"{matrix_3x3}\")\n",
    "\n"
   ]
  },
  {
   "cell_type": "code",
   "execution_count": 19,
   "metadata": {},
   "outputs": [
    {
     "data": {
      "text/plain": [
       "array([[0., 0., 0., 0., 0.],\n",
       "       [0., 0., 0., 0., 0.]])"
      ]
     },
     "execution_count": 19,
     "metadata": {},
     "output_type": "execute_result"
    }
   ],
   "source": [
    "np.zeros((2,5))"
   ]
  },
  {
   "cell_type": "code",
   "execution_count": 24,
   "metadata": {},
   "outputs": [
    {
     "name": "stdout",
     "output_type": "stream",
     "text": [
      "(3, 3)\n",
      "[ 1. 10.  1.]\n",
      "[ 1.  1. 10.]\n"
     ]
    },
    {
     "data": {
      "text/plain": [
       "array([ 2., 11., 11.])"
      ]
     },
     "execution_count": 24,
     "metadata": {},
     "output_type": "execute_result"
    }
   ],
   "source": [
    "\n",
    "print(matrix_3x3.shape)\n",
    "print(matrix_3x3[2,:])\n",
    "print(matrix_3x3[:,1])\n",
    "\n",
    "matrix_3x3[2,:] + matrix_3x3[:,1]"
   ]
  },
  {
   "cell_type": "code",
   "execution_count": 27,
   "metadata": {},
   "outputs": [
    {
     "data": {
      "text/plain": [
       "array([1, 3, 5, 1, 2, 6, 6, 5, 6, 3, 5, 5, 1, 1, 2, 4, 2, 6, 1, 6, 2, 2,\n",
       "       5, 1, 6, 6, 2, 4, 4, 3, 2, 6, 6, 1, 3, 3, 4, 3, 3, 6, 1, 3, 3, 5,\n",
       "       1, 2, 4, 3, 3, 5, 2, 4, 4, 4, 4, 5, 4, 3, 4, 4, 5, 4, 5, 6, 5, 6,\n",
       "       3, 4, 3, 5, 5, 2, 2, 1, 3, 2, 4, 1, 1, 6, 1, 1, 1, 1, 2, 3, 3, 3,\n",
       "       6, 2, 3, 6, 2, 3, 1, 1, 2, 1, 5, 1])"
      ]
     },
     "execution_count": 27,
     "metadata": {},
     "output_type": "execute_result"
    }
   ],
   "source": [
    "\n",
    "dices = np.random.randint(1, 7, 100)\n",
    "dices\n"
   ]
  },
  {
   "cell_type": "code",
   "execution_count": 30,
   "metadata": {},
   "outputs": [
    {
     "name": "stdout",
     "output_type": "stream",
     "text": [
      "(50,)\n"
     ]
    },
    {
     "data": {
      "text/plain": [
       "array([-5.        , -4.79591837, -4.59183673, -4.3877551 , -4.18367347,\n",
       "       -3.97959184, -3.7755102 , -3.57142857, -3.36734694, -3.16326531,\n",
       "       -2.95918367, -2.75510204, -2.55102041, -2.34693878, -2.14285714,\n",
       "       -1.93877551, -1.73469388, -1.53061224, -1.32653061, -1.12244898,\n",
       "       -0.91836735, -0.71428571, -0.51020408, -0.30612245, -0.10204082,\n",
       "        0.10204082,  0.30612245,  0.51020408,  0.71428571,  0.91836735,\n",
       "        1.12244898,  1.32653061,  1.53061224,  1.73469388,  1.93877551,\n",
       "        2.14285714,  2.34693878,  2.55102041,  2.75510204,  2.95918367,\n",
       "        3.16326531,  3.36734694,  3.57142857,  3.7755102 ,  3.97959184,\n",
       "        4.18367347,  4.3877551 ,  4.59183673,  4.79591837,  5.        ])"
      ]
     },
     "execution_count": 30,
     "metadata": {},
     "output_type": "execute_result"
    }
   ],
   "source": [
    "\n",
    "x = np.linspace(-5,5)\n",
    "print(x.shape)\n",
    "x"
   ]
  },
  {
   "cell_type": "code",
   "execution_count": 32,
   "metadata": {},
   "outputs": [
    {
     "ename": "ImportError",
     "evalue": "cannot import name '_docstring' from partially initialized module 'matplotlib' (most likely due to a circular import) (c:\\Users\\Rasmus\\.virtualenvs\\Python-Rasmus-Johansson-EWxhOLhb\\lib\\site-packages\\matplotlib\\__init__.py)",
     "output_type": "error",
     "traceback": [
      "\u001b[1;31m---------------------------------------------------------------------------\u001b[0m",
      "\u001b[1;31mImportError\u001b[0m                               Traceback (most recent call last)",
      "Cell \u001b[1;32mIn [32], line 1\u001b[0m\n\u001b[1;32m----> 1\u001b[0m \u001b[38;5;28;01mimport\u001b[39;00m \u001b[38;5;21;01mmatplotlib\u001b[39;00m\u001b[38;5;21;01m.\u001b[39;00m\u001b[38;5;21;01mpyplot\u001b[39;00m \u001b[38;5;28;01mas\u001b[39;00m \u001b[38;5;21;01mplt\u001b[39;00m\n\u001b[0;32m      3\u001b[0m f \u001b[38;5;241m=\u001b[39m \u001b[38;5;28;01mlambda\u001b[39;00m x: x\u001b[38;5;241m+\u001b[39m\u001b[38;5;241m2\u001b[39m\n\u001b[0;32m      5\u001b[0m \u001b[38;5;28mprint\u001b[39m(f(x))\n",
      "File \u001b[1;32mc:\\Users\\Rasmus\\.virtualenvs\\Python-Rasmus-Johansson-EWxhOLhb\\lib\\site-packages\\matplotlib\\__init__.py:113\u001b[0m\n\u001b[0;32m    109\u001b[0m \u001b[39mfrom\u001b[39;00m \u001b[39mpackaging\u001b[39;00m\u001b[39m.\u001b[39;00m\u001b[39mversion\u001b[39;00m \u001b[39mimport\u001b[39;00m parse \u001b[39mas\u001b[39;00m parse_version\n\u001b[0;32m    111\u001b[0m \u001b[39m# cbook must import matplotlib only within function\u001b[39;00m\n\u001b[0;32m    112\u001b[0m \u001b[39m# definitions, so it is safe to import from it here.\u001b[39;00m\n\u001b[1;32m--> 113\u001b[0m \u001b[39mfrom\u001b[39;00m \u001b[39m.\u001b[39;00m \u001b[39mimport\u001b[39;00m _api, _version, cbook, _docstring, rcsetup\n\u001b[0;32m    114\u001b[0m \u001b[39mfrom\u001b[39;00m \u001b[39mmatplotlib\u001b[39;00m\u001b[39m.\u001b[39;00m\u001b[39mcbook\u001b[39;00m \u001b[39mimport\u001b[39;00m sanitize_sequence\n\u001b[0;32m    115\u001b[0m \u001b[39mfrom\u001b[39;00m \u001b[39mmatplotlib\u001b[39;00m\u001b[39m.\u001b[39;00m\u001b[39m_api\u001b[39;00m \u001b[39mimport\u001b[39;00m MatplotlibDeprecationWarning\n",
      "\u001b[1;31mImportError\u001b[0m: cannot import name '_docstring' from partially initialized module 'matplotlib' (most likely due to a circular import) (c:\\Users\\Rasmus\\.virtualenvs\\Python-Rasmus-Johansson-EWxhOLhb\\lib\\site-packages\\matplotlib\\__init__.py)"
     ]
    }
   ],
   "source": [
    "import matplotlib.pyplot as plt\n",
    "\n",
    "f = lambda x: x+2\n",
    "\n",
    "print(f(x))\n",
    "plt.plot(x,f(x))"
   ]
  },
  {
   "cell_type": "markdown",
   "metadata": {},
   "source": [
    "## Performance"
   ]
  },
  {
   "cell_type": "code",
   "execution_count": 35,
   "metadata": {},
   "outputs": [
    {
     "name": "stdout",
     "output_type": "stream",
     "text": [
      "1.27 s ± 105 ms per loop (mean ± std. dev. of 7 runs, 1 loop each)\n"
     ]
    }
   ],
   "source": [
    "%%timeit\n",
    "import random as rnd\n",
    "\n",
    "number_dices = 1_000_000\n",
    "\n",
    "many_dices = []\n",
    "\n",
    "for dice in range(number_dices):\n",
    "    many_dices.append(rnd.randint(1,6))\n",
    "\n",
    "many_dices"
   ]
  },
  {
   "cell_type": "code",
   "execution_count": 38,
   "metadata": {},
   "outputs": [
    {
     "name": "stdout",
     "output_type": "stream",
     "text": [
      "1.15 s ± 98.1 ms per loop (mean ± std. dev. of 7 runs, 1 loop each)\n"
     ]
    }
   ],
   "source": [
    "%%timeit\n",
    "import random as rnd\n",
    "\n",
    "number_dices = 1_000_000\n",
    "\n",
    "many_dices = [rnd.randint(1,6) for _ in range(number_dices)]"
   ]
  },
  {
   "cell_type": "code",
   "execution_count": 41,
   "metadata": {},
   "outputs": [
    {
     "name": "stdout",
     "output_type": "stream",
     "text": [
      "14.3 ms ± 52 µs per loop (mean ± std. dev. of 7 runs, 100 loops each)\n"
     ]
    }
   ],
   "source": [
    "%%timeit\n",
    "import numpy\n",
    "\n",
    "number_dices = 1_000_000\n",
    "\n",
    "many_dices = np.random.randint(1, 7, number_dices)"
   ]
  }
 ],
 "metadata": {
  "kernelspec": {
   "display_name": "Python 3.9.13 ('Python-Rasmus-Johansson-EWxhOLhb')",
   "language": "python",
   "name": "python3"
  },
  "language_info": {
   "codemirror_mode": {
    "name": "ipython",
    "version": 3
   },
   "file_extension": ".py",
   "mimetype": "text/x-python",
   "name": "python",
   "nbconvert_exporter": "python",
   "pygments_lexer": "ipython3",
   "version": "3.9.13"
  },
  "orig_nbformat": 4,
  "vscode": {
   "interpreter": {
    "hash": "ed15a61d6e9ed6319e1180fdae838f97815abbfb1cd660cf0bc2fa86b0c66932"
   }
  }
 },
 "nbformat": 4,
 "nbformat_minor": 2
}
