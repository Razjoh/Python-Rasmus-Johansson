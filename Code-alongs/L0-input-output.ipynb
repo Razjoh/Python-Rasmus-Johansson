{
 "cells": [
  {
   "cell_type": "markdown",
   "metadata": {},
   "source": [
    "# Code along input - output"
   ]
  },
  {
   "cell_type": "code",
   "execution_count": 4,
   "metadata": {},
   "outputs": [
    {
     "name": "stdout",
     "output_type": "stream",
     "text": [
      "hej Rasmus, du är 23år gammal\n",
      "20\n"
     ]
    }
   ],
   "source": [
    "\n",
    "name = \"Rasmus\"\n",
    "age = 23\n",
    "\n",
    "# f-string is a formated string\n",
    "print(f\"hej {name}, du är {age}år gammal\")  \n",
    "\n",
    "\n",
    "name = 20\n",
    "print(name)\n"
   ]
  },
  {
   "cell_type": "markdown",
   "metadata": {},
   "source": [
    "## Input from user"
   ]
  },
  {
   "cell_type": "code",
   "execution_count": 5,
   "metadata": {},
   "outputs": [
    {
     "name": "stdout",
     "output_type": "stream",
     "text": [
      "Hello Rasmus, you are 23\n"
     ]
    }
   ],
   "source": [
    "name = input(\"what is your name?\")\n",
    "age = input(\"how old are you\")\n",
    "\n",
    "print(f\"Hello {name}, you are {age}\")"
   ]
  },
  {
   "cell_type": "markdown",
   "metadata": {},
   "source": [
    "## Calculations"
   ]
  },
  {
   "cell_type": "code",
   "execution_count": 6,
   "metadata": {},
   "outputs": [
    {
     "name": "stdout",
     "output_type": "stream",
     "text": [
      "your force is 608.84N\n"
     ]
    }
   ],
   "source": [
    "\n",
    "gravity = 9.82\n",
    "mass = 62\n",
    "\n",
    "force = mass * gravity\n",
    "\n",
    "print(f\"your force is {force}N\")\n"
   ]
  },
  {
   "cell_type": "code",
   "execution_count": 15,
   "metadata": {},
   "outputs": [
    {
     "name": "stdout",
     "output_type": "stream",
     "text": [
      "your force is force=392.8N\n"
     ]
    }
   ],
   "source": [
    "mass = float(input(\"Enter your mass (kg)\"))\n",
    "\n",
    "force = mass * gravity\n",
    "\n",
    "print(f\"your force is {force=:.1f}N\")\n",
    "\n"
   ]
  },
  {
   "cell_type": "markdown",
   "metadata": {},
   "source": []
  }
 ],
 "metadata": {
  "kernelspec": {
   "display_name": "Python 3.9.13 ('Python-Rasmus-Johansson-EWxhOLhb')",
   "language": "python",
   "name": "python3"
  },
  "language_info": {
   "codemirror_mode": {
    "name": "ipython",
    "version": 3
   },
   "file_extension": ".py",
   "mimetype": "text/x-python",
   "name": "python",
   "nbconvert_exporter": "python",
   "pygments_lexer": "ipython3",
   "version": "3.9.13"
  },
  "orig_nbformat": 4,
  "vscode": {
   "interpreter": {
    "hash": "ed15a61d6e9ed6319e1180fdae838f97815abbfb1cd660cf0bc2fa86b0c66932"
   }
  }
 },
 "nbformat": 4,
 "nbformat_minor": 2
}
