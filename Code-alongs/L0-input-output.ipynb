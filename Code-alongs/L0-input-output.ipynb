{
 "cells": [
  {
   "cell_type": "markdown",
   "metadata": {},
   "source": [
    "# Code along input - output"
   ]
  },
  {
   "cell_type": "code",
   "execution_count": 4,
   "metadata": {},
   "outputs": [
    {
     "name": "stdout",
     "output_type": "stream",
     "text": [
      "hej Rasmus, du är 23år gammal\n",
      "20\n"
     ]
    }
   ],
   "source": [
    "\n",
    "name = \"Rasmus\"\n",
    "age = 23\n",
    "\n",
    "# f-string is a formated string\n",
    "print(f\"hej {name}, du är {age}år gammal\")  \n",
    "\n",
    "\n",
    "name = 20\n",
    "print(name)\n"
   ]
  },
  {
   "cell_type": "markdown",
   "metadata": {},
   "source": [
    "## Input from user"
   ]
  },
  {
   "cell_type": "code",
   "execution_count": 5,
   "metadata": {},
   "outputs": [
    {
     "name": "stdout",
     "output_type": "stream",
     "text": [
      "Hello Rasmus, you are 23\n"
     ]
    }
   ],
   "source": [
    "name = input(\"what is your name?\")\n",
    "age = input(\"how old are you\")\n",
    "\n",
    "print(f\"Hello {name}, you are {age}\")"
   ]
  },
  {
   "cell_type": "markdown",
   "metadata": {},
   "source": [
    "## Calculations"
   ]
  },
  {
   "cell_type": "code",
   "execution_count": 6,
   "metadata": {},
   "outputs": [
    {
     "name": "stdout",
     "output_type": "stream",
     "text": [
      "your force is 608.84N\n"
     ]
    }
   ],
   "source": [
    "\n",
    "gravity = 9.82\n",
    "mass = 62\n",
    "\n",
    "force = mass * gravity\n",
    "\n",
    "print(f\"your force is {force}N\")\n"
   ]
  },
  {
   "cell_type": "code",
   "execution_count": 7,
   "metadata": {},
   "outputs": [
    {
     "ename": "TypeError",
     "evalue": "can't multiply sequence by non-int of type 'float'",
     "output_type": "error",
     "traceback": [
      "\u001b[1;31m---------------------------------------------------------------------------\u001b[0m",
      "\u001b[1;31mTypeError\u001b[0m                                 Traceback (most recent call last)",
      "\u001b[1;32mc:\\Users\\Rasmus\\Documents\\Github\\Python-Rasmus-Johansson\\Code-alongs\\L0-input-output.ipynb Cell 7\u001b[0m in \u001b[0;36m<cell line: 3>\u001b[1;34m()\u001b[0m\n\u001b[0;32m      <a href='vscode-notebook-cell:/c%3A/Users/Rasmus/Documents/Github/Python-Rasmus-Johansson/Code-alongs/L0-input-output.ipynb#X20sZmlsZQ%3D%3D?line=0'>1</a>\u001b[0m mass \u001b[39m=\u001b[39m \u001b[39minput\u001b[39m(\u001b[39m\"\u001b[39m\u001b[39mEnter your mass (kg)\u001b[39m\u001b[39m\"\u001b[39m)\n\u001b[1;32m----> <a href='vscode-notebook-cell:/c%3A/Users/Rasmus/Documents/Github/Python-Rasmus-Johansson/Code-alongs/L0-input-output.ipynb#X20sZmlsZQ%3D%3D?line=2'>3</a>\u001b[0m force \u001b[39m=\u001b[39m mass \u001b[39m*\u001b[39;49m gravity\n",
      "\u001b[1;31mTypeError\u001b[0m: can't multiply sequence by non-int of type 'float'"
     ]
    }
   ],
   "source": [
    "mass = input(\"Enter your mass (kg)\")\n",
    "\n",
    "force = mass * gravity\n"
   ]
  },
  {
   "cell_type": "markdown",
   "metadata": {},
   "source": []
  }
 ],
 "metadata": {
  "kernelspec": {
   "display_name": "Python 3.9.13 ('Python-Rasmus-Johansson-EWxhOLhb')",
   "language": "python",
   "name": "python3"
  },
  "language_info": {
   "codemirror_mode": {
    "name": "ipython",
    "version": 3
   },
   "file_extension": ".py",
   "mimetype": "text/x-python",
   "name": "python",
   "nbconvert_exporter": "python",
   "pygments_lexer": "ipython3",
   "version": "3.9.13"
  },
  "orig_nbformat": 4,
  "vscode": {
   "interpreter": {
    "hash": "ed15a61d6e9ed6319e1180fdae838f97815abbfb1cd660cf0bc2fa86b0c66932"
   }
  }
 },
 "nbformat": 4,
 "nbformat_minor": 2
}
