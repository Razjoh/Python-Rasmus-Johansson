{
 "cells": [
  {
   "cell_type": "markdown",
   "metadata": {},
   "source": [
    "# OOP polymorphism"
   ]
  },
  {
   "cell_type": "code",
   "execution_count": 2,
   "metadata": {},
   "outputs": [
    {
     "name": "stdout",
     "output_type": "stream",
     "text": [
      "len([1,23,4])=3\n",
      "len('1234')=4\n"
     ]
    }
   ],
   "source": [
    "# example with Python built-in\n",
    "print(f\"{len([1,23,4])=}\")\n",
    "print(f\"{len('1234')=}\")"
   ]
  },
  {
   "cell_type": "markdown",
   "metadata": {},
   "source": [
    "## Polymorphism in class method"
   ]
  },
  {
   "cell_type": "code",
   "execution_count": 10,
   "metadata": {},
   "outputs": [],
   "source": [
    "class fish:\n",
    "    def __init__(self, name) -> None:\n",
    "        self.name = name\n",
    "\n",
    "    # overrided dunder string method\n",
    "    def __str__(self) -> str:\n",
    "        return f\"I am a fish with the name {self.name}\"\n",
    "\n",
    "    # overrided dunder repper method\n",
    "    def __repr__(self) -> str:\n",
    "        return f\"Fish(name='{self.name}')\"\n",
    "\n",
    "    def speak(self):\n",
    "        print(\"Blubb blubb\")\n",
    "\n",
    "\n",
    "class fox:\n",
    "    def __init__(self, name) -> None:\n",
    "        self.name = name\n",
    "\n",
    "    def __str__(self) -> str:\n",
    "        return f\"I am a fox with the name {self.name}, my sound is mysterious\"\n",
    "\n",
    "    def speak(self):\n",
    "        return NotImplemented\n"
   ]
  },
  {
   "cell_type": "code",
   "execution_count": 11,
   "metadata": {},
   "outputs": [
    {
     "name": "stdout",
     "output_type": "stream",
     "text": [
      "I am a fish with the name Guppie\n"
     ]
    },
    {
     "data": {
      "text/plain": [
       "\"Fish(name='Guppie')\""
      ]
     },
     "execution_count": 11,
     "metadata": {},
     "output_type": "execute_result"
    }
   ],
   "source": [
    "fish1 = fish(\"Guppie\")\n",
    "print(fish1)\n",
    "repr(fish1)"
   ]
  },
  {
   "cell_type": "code",
   "execution_count": 12,
   "metadata": {},
   "outputs": [
    {
     "name": "stdout",
     "output_type": "stream",
     "text": [
      "I am a fish with the name Guppie\n",
      "Blubb blubb\n",
      "I am a fox with the name Ylvis, my sound is mysterious\n"
     ]
    }
   ],
   "source": [
    "fox1 = fox(\"Ylvis\")\n",
    "animals = (fish1, fox1)\n",
    "\n",
    "for animal in animals:\n",
    "    print(animal)\n",
    "    animal.speak()"
   ]
  },
  {
   "cell_type": "markdown",
   "metadata": {},
   "source": [
    "## Operator overloading"
   ]
  },
  {
   "cell_type": "code",
   "execution_count": 36,
   "metadata": {},
   "outputs": [
    {
     "name": "stdout",
     "output_type": "stream",
     "text": [
      "Vector(1.0, 2.0, 3.0)\n",
      "Vectors can't be empty\n",
      "(-1.0, -2.0)\n"
     ]
    }
   ],
   "source": [
    "from __future__ import annotations\n",
    "\n",
    "class Vector:\n",
    "    \"\"\"A class to represent Euclidean vector with magnitude and direction\"\"\"\n",
    "\n",
    "    def __init__(self, *numbers: float | int) -> None:\n",
    "        \n",
    "        for number in numbers:\n",
    "            if not isinstance(number, (float, int)):\n",
    "                raise TypeError(f\"{number} is not a valid number\")\n",
    "\n",
    "        if len(numbers) <= 0:\n",
    "            raise ValueError(\"Vectors can't be empty\")\n",
    "\n",
    "        self._numbers = tuple(float(number) for number in numbers)\n",
    "    \n",
    "    @property\n",
    "    def numbers(self) -> tuple:\n",
    "        return self._numbers\n",
    "\n",
    "    # operator overload +\n",
    "    def __add__(self, other: Vector) -> Vector:\n",
    "        if self.validate_vectors(other):\n",
    "            numbers = (a+b for a, b in zip(self.numbers, other.numbers))\n",
    "            return Vector(*numbers)\n",
    "\n",
    "    # operator overload -\n",
    "    def __sub__(self, other: Vector) -> Vector:\n",
    "        if self.validate_vectors(other):\n",
    "            numbers = (a-b for a, b in zip(self.numbers, other.numbers))\n",
    "            return Vector(*numbers)\n",
    "\n",
    "    def validate_vectors(self, other: Vector) -> bool:\n",
    "        \"\"\"Validates if two vectors have same lenght\"\"\"\n",
    "        if not isinstance(other, Vector) or len(other) != len(self):\n",
    "            raise TypeError(\"Both Must be Vector and have same lenght\")\n",
    "        return len(self) == len(other)\n",
    "\n",
    "    # to use len() on Vector have to overload it\n",
    "    def __len__(self) -> int:\n",
    "        \"\"\"Return number of elements in a Vector not the lenght of the Vector\"\"\"\n",
    "        return len(self.numbers)\n",
    "\n",
    "    def __repr__(self) -> str:\n",
    "        return f\"Vector{self._numbers}\"\n",
    "\n",
    "v1 = Vector(1,2,3)\n",
    "print(v1)\n",
    "\n",
    "try:\n",
    "    v2 = Vector()\n",
    "except ValueError as err:\n",
    "    print(err)\n",
    "\n",
    "v2 = Vector(-1, -2)\n",
    "print(v2.numbers)\n",
    "\n",
    "v3 = Vector(2,3)"
   ]
  },
  {
   "cell_type": "code",
   "execution_count": 38,
   "metadata": {},
   "outputs": [
    {
     "name": "stdout",
     "output_type": "stream",
     "text": [
      "v2=Vector(-1.0, -2.0) v3=Vector(2.0, 3.0)\n",
      "Vector(1.0, 1.0)\n",
      "Vector(-3.0, -5.0)\n",
      "2\n"
     ]
    }
   ],
   "source": [
    "print(f\"{v2=} {v3=}\")\n",
    "print(v3+v2)\n",
    "print(v2-v3)\n",
    "print(len(v2))"
   ]
  },
  {
   "cell_type": "code",
   "execution_count": null,
   "metadata": {},
   "outputs": [],
   "source": []
  }
 ],
 "metadata": {
  "kernelspec": {
   "display_name": "Python 3.9.13 ('Python-Rasmus-Johansson-EWxhOLhb')",
   "language": "python",
   "name": "python3"
  },
  "language_info": {
   "codemirror_mode": {
    "name": "ipython",
    "version": 3
   },
   "file_extension": ".py",
   "mimetype": "text/x-python",
   "name": "python",
   "nbconvert_exporter": "python",
   "pygments_lexer": "ipython3",
   "version": "3.9.13"
  },
  "orig_nbformat": 4,
  "vscode": {
   "interpreter": {
    "hash": "ed15a61d6e9ed6319e1180fdae838f97815abbfb1cd660cf0bc2fa86b0c66932"
   }
  }
 },
 "nbformat": 4,
 "nbformat_minor": 2
}
