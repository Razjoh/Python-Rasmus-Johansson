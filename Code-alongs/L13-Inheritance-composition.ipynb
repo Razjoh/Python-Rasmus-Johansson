{
 "cells": [
  {
   "cell_type": "markdown",
   "metadata": {},
   "source": [
    "# Inheritace and composition"
   ]
  },
  {
   "cell_type": "code",
   "execution_count": 12,
   "metadata": {},
   "outputs": [
    {
     "name": "stdout",
     "output_type": "stream",
     "text": [
      "Student Olle Svensson says hi in spanish\n",
      "OldCoinStash(owner='Sten')\n",
      "Coins in stash: 0 riksdaler, 0 skilling\n",
      "Student Olle Svensson says hi in spanish\n",
      "Person John says hi\n",
      "Person Sten says hi\n"
     ]
    }
   ],
   "source": [
    "import re\n",
    "from oldcoins import OldCoinsStash\n",
    "\n",
    "class Person:\n",
    "    def __init__(self,name: str, age: int) -> None:\n",
    "        self.age = age\n",
    "        self.name = name\n",
    "\n",
    "\n",
    "    @property\n",
    "    def age(self) -> None:\n",
    "        return self._age\n",
    "    \n",
    "    @age.setter\n",
    "    def age(self, value: int) -> None:\n",
    "        if not isinstance(value, int):\n",
    "            raise TypeError(f\"Age must be int or float\")\n",
    "        self._age = value\n",
    "\n",
    "    @property\n",
    "    def name(self) -> str:\n",
    "        return self._name\n",
    "\n",
    "    @name.setter\n",
    "    def name(self, value: str) -> str:\n",
    "        if re.search(r'^[A-ö]+(\\s[A-ö]+)?$',value.strip()) is None:\n",
    "            raise ValueError(f\"{value} is not a valid name\")\n",
    "\n",
    "        self._name = value\n",
    "\n",
    "    def say_hi(self) -> None:\n",
    "        print(f\"Person {self.name} says hi\")\n",
    "\n",
    "class Student(Person):\n",
    "    \"\"\"a student is a Person that knows a language\"\"\"\n",
    "    \n",
    "    def __init__(self, name: str, age: int, language: str) -> None:\n",
    "        super().__init__(name, age)\n",
    "        self.language = language\n",
    "\n",
    "    #TODO: make language into a property\n",
    "\n",
    "    def say_hi(self) -> None:\n",
    "        print(f\"Student {self.name} says hi in {self.language}\")\n",
    "\n",
    "class Viking(Person):\n",
    "    \"\"\"a viking is a Person that has an OldCoinStash\"\"\"\n",
    "    def __init__(self, name: str, age: int) -> None:\n",
    "        super().__init__(name, age)\n",
    "        self.stash = OldCoinsStash(self.name)\n",
    "\n",
    "student1 = Student(\"Olle Svensson\", 30, \"spanish\")\n",
    "student1.say_hi()\n",
    "person1 = Person(\"John\", 28)\n",
    "viking1 = Viking(\"Sten\", 23)\n",
    "print(viking1.stash)\n",
    "print(viking1.stash.check_balance())\n",
    "\n",
    "for person in (student1, person1, viking1):\n",
    "    person.say_hi()"
   ]
  },
  {
   "cell_type": "code",
   "execution_count": null,
   "metadata": {},
   "outputs": [],
   "source": []
  }
 ],
 "metadata": {
  "kernelspec": {
   "display_name": "Python 3.9.13 ('Python-Rasmus-Johansson-EWxhOLhb')",
   "language": "python",
   "name": "python3"
  },
  "language_info": {
   "codemirror_mode": {
    "name": "ipython",
    "version": 3
   },
   "file_extension": ".py",
   "mimetype": "text/x-python",
   "name": "python",
   "nbconvert_exporter": "python",
   "pygments_lexer": "ipython3",
   "version": "3.9.13"
  },
  "orig_nbformat": 4,
  "vscode": {
   "interpreter": {
    "hash": "ed15a61d6e9ed6319e1180fdae838f97815abbfb1cd660cf0bc2fa86b0c66932"
   }
  }
 },
 "nbformat": 4,
 "nbformat_minor": 2
}
