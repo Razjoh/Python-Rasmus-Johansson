{
 "cells": [
  {
   "cell_type": "markdown",
   "metadata": {},
   "source": [
    "# Dataclass\n",
    "\n",
    "- gives us some boilerplate code for free\n",
    "- usually used for classes that stores a lot of data\n",
    "- in method heavy classes, dataclass might not help much\n",
    "\n",
    "\n",
    "Gives free:\n",
    "- '__init__()'\n",
    "- '__repr__()'\n",
    "- '__eq__()'\n",
    "- and more"
   ]
  },
  {
   "cell_type": "code",
   "execution_count": 5,
   "metadata": {},
   "outputs": [
    {
     "name": "stdout",
     "output_type": "stream",
     "text": [
      "value setter\n",
      "Value must be int or float not property\n",
      "value setter\n",
      "value getter\n",
      "42 unit\n"
     ]
    }
   ],
   "source": [
    "from __future__ import annotations\n",
    "from dataclasses import dataclass\n",
    "\n",
    "@dataclass\n",
    "class Prefix:\n",
    "    # fields will go into the automatically generated __init__() and __repr__()\n",
    "    # fields - variable: type annotation\n",
    "    value: int|float # positional argument\n",
    "    unit: str = \"unit\" # keyword argument\n",
    "    prefix_symbol: str = None\n",
    "\n",
    "    # bare class attributes, they are not in __init__() or __repr__()\n",
    "    # note the dont have a type annotation so they are not fields\n",
    "    symbols = \"T G M k h d c m μ n p\".split()\n",
    "    names = \"tera giga mega kilo hekto deci centi milli mikro nano piko\".split()\n",
    "    values = (10**i for i in (12,9,6,3,2,-1,-2,-3,-6,-9,-12))\n",
    "\n",
    "    prefix_dict = {\n",
    "        symbol: [value, name]\n",
    "        for name, symbol, value in zip(names, symbols, values) \n",
    "    }\n",
    "\n",
    "    def convert(self, symbol: str) -> float|int:\n",
    "        self.prefix_symbol = symbol\n",
    "        return self.value/self.prefix_dict[symbol][0]\n",
    "\n",
    "    def __str__(self) -> str:\n",
    "        if self.prefix_symbol:\n",
    "            return f\"{self.convert(self.prefix_symbol)} {self.prefix_symbol}{self.unit}\"\n",
    "        return f\"{self.value} {self.unit}\"\n",
    "    \n",
    "    @property\n",
    "    def value(self):\n",
    "        print(\"value getter\")\n",
    "        return self._value\n",
    "\n",
    "    @value.setter\n",
    "    def value(self, value):\n",
    "        print(\"value setter\")\n",
    "        if not isinstance(value, (int,float)):\n",
    "            raise TypeError(f\"Value must be int or float not {type(value).__name__}\")\n",
    "        self._value = value\n",
    "\n",
    "try:\n",
    "    p1 = Prefix()\n",
    "except TypeError as err:\n",
    "    print(err)\n",
    "\n",
    "p1 = Prefix(42)\n",
    "print(p1)\n"
   ]
  },
  {
   "cell_type": "code",
   "execution_count": 6,
   "metadata": {},
   "outputs": [
    {
     "name": "stdout",
     "output_type": "stream",
     "text": [
      "value setter\n",
      "value getter\n",
      "42 g\n",
      "value getter\n",
      "value getter\n",
      "42000.0 mg\n"
     ]
    }
   ],
   "source": [
    "p1 = Prefix(42, \"g\")\n",
    "print(p1)\n",
    "p1.convert(\"m\")\n",
    "print(p1)"
   ]
  },
  {
   "cell_type": "code",
   "execution_count": 7,
   "metadata": {},
   "outputs": [
    {
     "name": "stdout",
     "output_type": "stream",
     "text": [
      "value setter\n",
      "value setter\n",
      "value getter\n",
      "value getter\n"
     ]
    },
    {
     "data": {
      "text/plain": [
       "True"
      ]
     },
     "execution_count": 7,
     "metadata": {},
     "output_type": "execute_result"
    }
   ],
   "source": [
    "p1 = Prefix(42, \"g\")\n",
    "p2 = Prefix(42, \"g\")\n",
    "\n",
    "p1 == p2"
   ]
  },
  {
   "cell_type": "code",
   "execution_count": null,
   "metadata": {},
   "outputs": [],
   "source": []
  }
 ],
 "metadata": {
  "kernelspec": {
   "display_name": "Python 3.9.13 ('Python-Rasmus-Johansson-EWxhOLhb')",
   "language": "python",
   "name": "python3"
  },
  "language_info": {
   "codemirror_mode": {
    "name": "ipython",
    "version": 3
   },
   "file_extension": ".py",
   "mimetype": "text/x-python",
   "name": "python",
   "nbconvert_exporter": "python",
   "pygments_lexer": "ipython3",
   "version": "3.9.13"
  },
  "orig_nbformat": 4,
  "vscode": {
   "interpreter": {
    "hash": "ed15a61d6e9ed6319e1180fdae838f97815abbfb1cd660cf0bc2fa86b0c66932"
   }
  }
 },
 "nbformat": 4,
 "nbformat_minor": 2
}
